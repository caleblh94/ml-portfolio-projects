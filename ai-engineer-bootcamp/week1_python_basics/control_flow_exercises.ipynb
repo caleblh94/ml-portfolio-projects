{
 "cells": [
  {
   "cell_type": "code",
   "execution_count": 7,
   "id": "d8be7df3",
   "metadata": {},
   "outputs": [
    {
     "name": "stdout",
     "output_type": "stream",
     "text": [
      "Grade: B\n",
      "Loop 0\n",
      "Loop 1\n",
      "Loop 2\n",
      "Loop 3\n",
      "Loop 4\n",
      "Counting: 0\n",
      "Counting: 1\n",
      "Counting: 2\n",
      "Hello, Caleb!\n",
      "3.5\n"
     ]
    }
   ],
   "source": [
    "# If/Else logic\n",
    "score = 85\n",
    "if score >= 90:\n",
    "    print(\"Grade: A\")\n",
    "elif score >= 75:\n",
    "    print(\"Grade: B\")\n",
    "else:\n",
    "    print(\"Grade: C\")\n",
    "\n",
    "# For loop\n",
    "for i in range(5):\n",
    "    print(f\"Loop {i}\")\n",
    "\n",
    "# While loop\n",
    "counter = 0\n",
    "while counter < 3:\n",
    "    print(\"Counting:\", counter)\n",
    "    counter += 1\n",
    "\n",
    "# Function\n",
    "def greet(name):\n",
    "    return f\"Hello, {name}!\"\n",
    "\n",
    "print(greet(\"Caleb\"))\n",
    "\n",
    "def listOfNumber(listNum):\n",
    "    sumNum = 0\n",
    "    for num in listNum:\n",
    "        sumNum = sumNum + num\n",
    "\n",
    "    return sumNum/len(listNum)\n",
    "\n",
    "print(listOfNumber([1,2,3,4,5,6]))"
   ]
  },
  {
   "cell_type": "code",
   "execution_count": null,
   "id": "c26b09f8",
   "metadata": {},
   "outputs": [],
   "source": []
  },
  {
   "cell_type": "code",
   "execution_count": null,
   "id": "1e2ea28e",
   "metadata": {},
   "outputs": [],
   "source": []
  }
 ],
 "metadata": {
  "kernelspec": {
   "display_name": "Python 3",
   "language": "python",
   "name": "python3"
  },
  "language_info": {
   "codemirror_mode": {
    "name": "ipython",
    "version": 3
   },
   "file_extension": ".py",
   "mimetype": "text/x-python",
   "name": "python",
   "nbconvert_exporter": "python",
   "pygments_lexer": "ipython3",
   "version": "3.11.9"
  }
 },
 "nbformat": 4,
 "nbformat_minor": 5
}
