{
 "cells": [
  {
   "cell_type": "code",
   "execution_count": null,
   "id": "da72fbe8-a43f-4487-978a-25a7ef07141d",
   "metadata": {},
   "outputs": [],
   "source": []
  }
 ],
 "metadata": {
  "kernelspec": {
   "display_name": "",
   "name": ""
  },
  "language_info": {
   "name": ""
  }
 },
 "nbformat": 4,
 "nbformat_minor": 5
}
